{
 "cells": [
  {
   "cell_type": "code",
   "execution_count": 1,
   "metadata": {},
   "outputs": [],
   "source": [
    "import numpy as np\n",
    "import pandas as pd\n",
    "import mordred\n",
    "from mordred import Calculator, descriptors\n",
    "from rdkit import Chem\n",
    "from rdkit.Chem import AllChem, PandasTools\n",
    "from rdkit.Chem.Draw import IPythonConsole\n",
    "\n",
    "# pd.set_option('display.max_rows', 6000)\n",
    "# pd.set_option('display.max_columns', 2000)"
   ]
  },
  {
   "cell_type": "code",
   "execution_count": 2,
   "metadata": {},
   "outputs": [],
   "source": [
    "SOURCE_TABLE_PATH = '../amino.csv'\n",
    "SOURCE_SDF_PATH = '../amino.sdf'"
   ]
  },
  {
   "cell_type": "code",
   "execution_count": 3,
   "metadata": {},
   "outputs": [],
   "source": [
    "df_origin = pd.read_csv(SOURCE_TABLE_PATH)"
   ]
  },
  {
   "cell_type": "code",
   "execution_count": 4,
   "metadata": {},
   "outputs": [
    {
     "name": "stdout",
     "output_type": "stream",
     "text": [
      "20\n"
     ]
    }
   ],
   "source": [
    "mols = PandasTools.LoadSDF(SOURCE_SDF_PATH).ROMol\n",
    "print(len(mols))"
   ]
  },
  {
   "cell_type": "code",
   "execution_count": 5,
   "metadata": {},
   "outputs": [],
   "source": [
    "calc = Calculator(descriptors, ignore_3D=False)\n",
    "descs = calc.pandas(mols)"
   ]
  },
  {
   "cell_type": "code",
   "execution_count": 6,
   "metadata": {},
   "outputs": [],
   "source": [
    "def convert_error_to_nan(descs):\n",
    "    for i, col_val in enumerate(descs.values.tolist()):\n",
    "        for j, val in enumerate(col_val):\n",
    "            if isinstance(val, mordred.error.Missing):\n",
    "                descs.iloc[i, j] = np.nan\n",
    "            elif isinstance(val, bool):\n",
    "                descs.iloc[i,j] = [0, 1][val]\n",
    "    return descs"
   ]
  },
  {
   "cell_type": "code",
   "execution_count": 7,
   "metadata": {},
   "outputs": [],
   "source": [
    "descs = convert_error_to_nan(descs)"
   ]
  },
  {
   "cell_type": "code",
   "execution_count": 8,
   "metadata": {},
   "outputs": [
    {
     "data": {
      "text/plain": [
       "7324"
      ]
     },
     "execution_count": 8,
     "metadata": {},
     "output_type": "execute_result"
    }
   ],
   "source": [
    "descs.isnull().sum().sum()"
   ]
  },
  {
   "cell_type": "code",
   "execution_count": 9,
   "metadata": {},
   "outputs": [
    {
     "data": {
      "text/html": [
       "<div>\n",
       "<style scoped>\n",
       "    .dataframe tbody tr th:only-of-type {\n",
       "        vertical-align: middle;\n",
       "    }\n",
       "\n",
       "    .dataframe tbody tr th {\n",
       "        vertical-align: top;\n",
       "    }\n",
       "\n",
       "    .dataframe thead th {\n",
       "        text-align: right;\n",
       "    }\n",
       "</style>\n",
       "<table border=\"1\" class=\"dataframe\">\n",
       "  <thead>\n",
       "    <tr style=\"text-align: right;\">\n",
       "      <th></th>\n",
       "      <th>CID</th>\n",
       "      <th>IsomericSMILES</th>\n",
       "      <th>y</th>\n",
       "      <th>name</th>\n",
       "      <th>split</th>\n",
       "      <th>ABC</th>\n",
       "      <th>ABCGG</th>\n",
       "      <th>nAcid</th>\n",
       "      <th>nBase</th>\n",
       "      <th>SpAbs_A</th>\n",
       "      <th>...</th>\n",
       "      <th>SRW10</th>\n",
       "      <th>TSRW10</th>\n",
       "      <th>MW</th>\n",
       "      <th>AMW</th>\n",
       "      <th>WPath</th>\n",
       "      <th>WPol</th>\n",
       "      <th>Zagreb1</th>\n",
       "      <th>Zagreb2</th>\n",
       "      <th>mZagreb1</th>\n",
       "      <th>mZagreb2</th>\n",
       "    </tr>\n",
       "  </thead>\n",
       "  <tbody>\n",
       "    <tr>\n",
       "      <th>0</th>\n",
       "      <td>5950</td>\n",
       "      <td>C[C@@H](C(=O)O)N</td>\n",
       "      <td>0</td>\n",
       "      <td>alanine</td>\n",
       "      <td>test</td>\n",
       "      <td>3.932653</td>\n",
       "      <td>4.244375</td>\n",
       "      <td>1</td>\n",
       "      <td>1</td>\n",
       "      <td>6.000000</td>\n",
       "      <td>...</td>\n",
       "      <td>7.626083</td>\n",
       "      <td>30.698690</td>\n",
       "      <td>89.047678</td>\n",
       "      <td>6.849821</td>\n",
       "      <td>29</td>\n",
       "      <td>4</td>\n",
       "      <td>22.0</td>\n",
       "      <td>21.0</td>\n",
       "      <td>4.222222</td>\n",
       "      <td>1.444444</td>\n",
       "    </tr>\n",
       "    <tr>\n",
       "      <th>1</th>\n",
       "      <td>6322</td>\n",
       "      <td>C(C[C@@H](C(=O)O)N)CN=C(N)N</td>\n",
       "      <td>0</td>\n",
       "      <td>arginine</td>\n",
       "      <td>test</td>\n",
       "      <td>8.284683</td>\n",
       "      <td>8.139582</td>\n",
       "      <td>1</td>\n",
       "      <td>4</td>\n",
       "      <td>13.438278</td>\n",
       "      <td>...</td>\n",
       "      <td>8.423542</td>\n",
       "      <td>40.531488</td>\n",
       "      <td>174.111676</td>\n",
       "      <td>6.696603</td>\n",
       "      <td>247</td>\n",
       "      <td>11</td>\n",
       "      <td>48.0</td>\n",
       "      <td>48.0</td>\n",
       "      <td>6.333333</td>\n",
       "      <td>2.861111</td>\n",
       "    </tr>\n",
       "    <tr>\n",
       "      <th>2</th>\n",
       "      <td>6267</td>\n",
       "      <td>C([C@@H](C(=O)O)N)C(=O)N</td>\n",
       "      <td>0</td>\n",
       "      <td>asparagine</td>\n",
       "      <td>test</td>\n",
       "      <td>6.163363</td>\n",
       "      <td>6.515899</td>\n",
       "      <td>1</td>\n",
       "      <td>1</td>\n",
       "      <td>9.335326</td>\n",
       "      <td>...</td>\n",
       "      <td>8.267962</td>\n",
       "      <td>36.359125</td>\n",
       "      <td>132.053492</td>\n",
       "      <td>7.767852</td>\n",
       "      <td>96</td>\n",
       "      <td>8</td>\n",
       "      <td>36.0</td>\n",
       "      <td>36.0</td>\n",
       "      <td>5.583333</td>\n",
       "      <td>2.111111</td>\n",
       "    </tr>\n",
       "    <tr>\n",
       "      <th>3</th>\n",
       "      <td>5960</td>\n",
       "      <td>C([C@@H](C(=O)O)N)C(=O)O</td>\n",
       "      <td>1</td>\n",
       "      <td>aspartic acid</td>\n",
       "      <td>test</td>\n",
       "      <td>6.163363</td>\n",
       "      <td>6.515899</td>\n",
       "      <td>2</td>\n",
       "      <td>1</td>\n",
       "      <td>9.335326</td>\n",
       "      <td>...</td>\n",
       "      <td>8.267962</td>\n",
       "      <td>36.359125</td>\n",
       "      <td>133.037508</td>\n",
       "      <td>8.314844</td>\n",
       "      <td>96</td>\n",
       "      <td>8</td>\n",
       "      <td>36.0</td>\n",
       "      <td>36.0</td>\n",
       "      <td>5.583333</td>\n",
       "      <td>2.111111</td>\n",
       "    </tr>\n",
       "    <tr>\n",
       "      <th>4</th>\n",
       "      <td>5862</td>\n",
       "      <td>C([C@@H](C(=O)O)N)S</td>\n",
       "      <td>1</td>\n",
       "      <td>cysteine</td>\n",
       "      <td>test</td>\n",
       "      <td>4.530370</td>\n",
       "      <td>5.004088</td>\n",
       "      <td>1</td>\n",
       "      <td>1</td>\n",
       "      <td>7.662988</td>\n",
       "      <td>...</td>\n",
       "      <td>7.890957</td>\n",
       "      <td>32.688753</td>\n",
       "      <td>121.019749</td>\n",
       "      <td>8.644268</td>\n",
       "      <td>46</td>\n",
       "      <td>6</td>\n",
       "      <td>26.0</td>\n",
       "      <td>26.0</td>\n",
       "      <td>4.472222</td>\n",
       "      <td>1.777778</td>\n",
       "    </tr>\n",
       "  </tbody>\n",
       "</table>\n",
       "<p>5 rows × 1831 columns</p>\n",
       "</div>"
      ],
      "text/plain": [
       "    CID               IsomericSMILES  y           name split       ABC  \\\n",
       "0  5950             C[C@@H](C(=O)O)N  0        alanine  test  3.932653   \n",
       "1  6322  C(C[C@@H](C(=O)O)N)CN=C(N)N  0       arginine  test  8.284683   \n",
       "2  6267     C([C@@H](C(=O)O)N)C(=O)N  0     asparagine  test  6.163363   \n",
       "3  5960     C([C@@H](C(=O)O)N)C(=O)O  1  aspartic acid  test  6.163363   \n",
       "4  5862          C([C@@H](C(=O)O)N)S  1       cysteine  test  4.530370   \n",
       "\n",
       "      ABCGG  nAcid  nBase    SpAbs_A  ...     SRW10     TSRW10          MW  \\\n",
       "0  4.244375      1      1   6.000000  ...  7.626083  30.698690   89.047678   \n",
       "1  8.139582      1      4  13.438278  ...  8.423542  40.531488  174.111676   \n",
       "2  6.515899      1      1   9.335326  ...  8.267962  36.359125  132.053492   \n",
       "3  6.515899      2      1   9.335326  ...  8.267962  36.359125  133.037508   \n",
       "4  5.004088      1      1   7.662988  ...  7.890957  32.688753  121.019749   \n",
       "\n",
       "        AMW  WPath  WPol  Zagreb1  Zagreb2  mZagreb1  mZagreb2  \n",
       "0  6.849821     29     4     22.0     21.0  4.222222  1.444444  \n",
       "1  6.696603    247    11     48.0     48.0  6.333333  2.861111  \n",
       "2  7.767852     96     8     36.0     36.0  5.583333  2.111111  \n",
       "3  8.314844     96     8     36.0     36.0  5.583333  2.111111  \n",
       "4  8.644268     46     6     26.0     26.0  4.472222  1.777778  \n",
       "\n",
       "[5 rows x 1831 columns]"
      ]
     },
     "execution_count": 9,
     "metadata": {},
     "output_type": "execute_result"
    }
   ],
   "source": [
    "df = pd.concat([df_origin, descs], axis=1)\n",
    "df.head()"
   ]
  },
  {
   "cell_type": "code",
   "execution_count": 10,
   "metadata": {},
   "outputs": [],
   "source": [
    "df_train = df[df.split=='train']\n",
    "df_test = df[df.split=='test']"
   ]
  },
  {
   "cell_type": "code",
   "execution_count": 11,
   "metadata": {},
   "outputs": [],
   "source": [
    "df_train.to_csv('../train.csv', encoding='utf-8', index=False)\n",
    "df_test.to_csv('../test.csv', encoding='utf-8', index=False)"
   ]
  },
  {
   "cell_type": "code",
   "execution_count": null,
   "metadata": {},
   "outputs": [],
   "source": []
  }
 ],
 "metadata": {
  "kernelspec": {
   "display_name": "Python 3",
   "language": "python",
   "name": "python3"
  },
  "language_info": {
   "codemirror_mode": {
    "name": "ipython",
    "version": 3
   },
   "file_extension": ".py",
   "mimetype": "text/x-python",
   "name": "python",
   "nbconvert_exporter": "python",
   "pygments_lexer": "ipython3",
   "version": "3.7.3"
  }
 },
 "nbformat": 4,
 "nbformat_minor": 4
}
