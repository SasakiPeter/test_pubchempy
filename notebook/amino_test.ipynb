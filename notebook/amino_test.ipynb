{
 "cells": [
  {
   "cell_type": "code",
   "execution_count": 1,
   "metadata": {},
   "outputs": [],
   "source": [
    "import random\n",
    "import pandas as pd\n",
    "import pubchempy as pcp\n",
    "from rdkit import Chem\n",
    "from rdkit.Chem import MolStandardize, AllChem"
   ]
  },
  {
   "cell_type": "code",
   "execution_count": 2,
   "metadata": {},
   "outputs": [],
   "source": [
    "df_amino = pd.read_csv('../amino_name.csv')"
   ]
  },
  {
   "cell_type": "code",
   "execution_count": 3,
   "metadata": {},
   "outputs": [],
   "source": [
    "properties = ['IsomericSMILES', 'XLogP']\n",
    "ls = [[], [], []]\n",
    "for name in df_amino.name.tolist():\n",
    "    dic = pcp.get_properties(properties, name, 'name')[0]\n",
    "    for i, prop in enumerate(dic.keys()):\n",
    "        ls[i].append(dic[prop])"
   ]
  },
  {
   "cell_type": "code",
   "execution_count": 4,
   "metadata": {
    "scrolled": true
   },
   "outputs": [
    {
     "data": {
      "text/html": [
       "<div>\n",
       "<style scoped>\n",
       "    .dataframe tbody tr th:only-of-type {\n",
       "        vertical-align: middle;\n",
       "    }\n",
       "\n",
       "    .dataframe tbody tr th {\n",
       "        vertical-align: top;\n",
       "    }\n",
       "\n",
       "    .dataframe thead th {\n",
       "        text-align: right;\n",
       "    }\n",
       "</style>\n",
       "<table border=\"1\" class=\"dataframe\">\n",
       "  <thead>\n",
       "    <tr style=\"text-align: right;\">\n",
       "      <th></th>\n",
       "      <th>CID</th>\n",
       "      <th>IsomericSMILES</th>\n",
       "      <th>XLogP</th>\n",
       "      <th>name</th>\n",
       "    </tr>\n",
       "  </thead>\n",
       "  <tbody>\n",
       "    <tr>\n",
       "      <th>0</th>\n",
       "      <td>5950</td>\n",
       "      <td>C[C@@H](C(=O)O)N</td>\n",
       "      <td>-3.0</td>\n",
       "      <td>alanine</td>\n",
       "    </tr>\n",
       "    <tr>\n",
       "      <th>1</th>\n",
       "      <td>6322</td>\n",
       "      <td>C(C[C@@H](C(=O)O)N)CN=C(N)N</td>\n",
       "      <td>-4.2</td>\n",
       "      <td>arginine</td>\n",
       "    </tr>\n",
       "    <tr>\n",
       "      <th>2</th>\n",
       "      <td>6267</td>\n",
       "      <td>C([C@@H](C(=O)O)N)C(=O)N</td>\n",
       "      <td>-3.4</td>\n",
       "      <td>asparagine</td>\n",
       "    </tr>\n",
       "    <tr>\n",
       "      <th>3</th>\n",
       "      <td>5960</td>\n",
       "      <td>C([C@@H](C(=O)O)N)C(=O)O</td>\n",
       "      <td>-2.8</td>\n",
       "      <td>aspartic acid</td>\n",
       "    </tr>\n",
       "    <tr>\n",
       "      <th>4</th>\n",
       "      <td>5862</td>\n",
       "      <td>C([C@@H](C(=O)O)N)S</td>\n",
       "      <td>-2.5</td>\n",
       "      <td>cysteine</td>\n",
       "    </tr>\n",
       "    <tr>\n",
       "      <th>5</th>\n",
       "      <td>5961</td>\n",
       "      <td>C(CC(=O)N)[C@@H](C(=O)O)N</td>\n",
       "      <td>-3.1</td>\n",
       "      <td>glutamine</td>\n",
       "    </tr>\n",
       "    <tr>\n",
       "      <th>6</th>\n",
       "      <td>33032</td>\n",
       "      <td>C(CC(=O)O)[C@@H](C(=O)O)N</td>\n",
       "      <td>-3.7</td>\n",
       "      <td>glutamic acid</td>\n",
       "    </tr>\n",
       "    <tr>\n",
       "      <th>7</th>\n",
       "      <td>750</td>\n",
       "      <td>C(C(=O)O)N</td>\n",
       "      <td>-3.2</td>\n",
       "      <td>glycine</td>\n",
       "    </tr>\n",
       "    <tr>\n",
       "      <th>8</th>\n",
       "      <td>6274</td>\n",
       "      <td>C1=C(NC=N1)C[C@@H](C(=O)O)N</td>\n",
       "      <td>-3.2</td>\n",
       "      <td>histidine</td>\n",
       "    </tr>\n",
       "    <tr>\n",
       "      <th>9</th>\n",
       "      <td>6306</td>\n",
       "      <td>CC[C@H](C)[C@@H](C(=O)O)N</td>\n",
       "      <td>-1.7</td>\n",
       "      <td>isoleucine</td>\n",
       "    </tr>\n",
       "    <tr>\n",
       "      <th>10</th>\n",
       "      <td>6106</td>\n",
       "      <td>CC(C)C[C@@H](C(=O)O)N</td>\n",
       "      <td>-1.5</td>\n",
       "      <td>leucine</td>\n",
       "    </tr>\n",
       "    <tr>\n",
       "      <th>11</th>\n",
       "      <td>5962</td>\n",
       "      <td>C(CCN)C[C@@H](C(=O)O)N</td>\n",
       "      <td>-3.0</td>\n",
       "      <td>lysine</td>\n",
       "    </tr>\n",
       "    <tr>\n",
       "      <th>12</th>\n",
       "      <td>6137</td>\n",
       "      <td>CSCC[C@@H](C(=O)O)N</td>\n",
       "      <td>-1.9</td>\n",
       "      <td>methionine</td>\n",
       "    </tr>\n",
       "    <tr>\n",
       "      <th>13</th>\n",
       "      <td>6140</td>\n",
       "      <td>C1=CC=C(C=C1)C[C@@H](C(=O)O)N</td>\n",
       "      <td>-1.5</td>\n",
       "      <td>phenylalanine</td>\n",
       "    </tr>\n",
       "    <tr>\n",
       "      <th>14</th>\n",
       "      <td>614</td>\n",
       "      <td>C1CC(NC1)C(=O)O</td>\n",
       "      <td>-2.5</td>\n",
       "      <td>proline</td>\n",
       "    </tr>\n",
       "    <tr>\n",
       "      <th>15</th>\n",
       "      <td>5951</td>\n",
       "      <td>C([C@@H](C(=O)O)N)O</td>\n",
       "      <td>-3.1</td>\n",
       "      <td>serine</td>\n",
       "    </tr>\n",
       "    <tr>\n",
       "      <th>16</th>\n",
       "      <td>6288</td>\n",
       "      <td>C[C@H]([C@@H](C(=O)O)N)O</td>\n",
       "      <td>-2.9</td>\n",
       "      <td>threonine</td>\n",
       "    </tr>\n",
       "    <tr>\n",
       "      <th>17</th>\n",
       "      <td>6305</td>\n",
       "      <td>C1=CC=C2C(=C1)C(=CN2)C[C@@H](C(=O)O)N</td>\n",
       "      <td>-1.1</td>\n",
       "      <td>tryptophan</td>\n",
       "    </tr>\n",
       "    <tr>\n",
       "      <th>18</th>\n",
       "      <td>6057</td>\n",
       "      <td>C1=CC(=CC=C1C[C@@H](C(=O)O)N)O</td>\n",
       "      <td>-2.3</td>\n",
       "      <td>tyrosine</td>\n",
       "    </tr>\n",
       "    <tr>\n",
       "      <th>19</th>\n",
       "      <td>6287</td>\n",
       "      <td>CC(C)[C@@H](C(=O)O)N</td>\n",
       "      <td>-2.3</td>\n",
       "      <td>valine</td>\n",
       "    </tr>\n",
       "  </tbody>\n",
       "</table>\n",
       "</div>"
      ],
      "text/plain": [
       "      CID                         IsomericSMILES  XLogP           name\n",
       "0    5950                       C[C@@H](C(=O)O)N   -3.0        alanine\n",
       "1    6322            C(C[C@@H](C(=O)O)N)CN=C(N)N   -4.2       arginine\n",
       "2    6267               C([C@@H](C(=O)O)N)C(=O)N   -3.4     asparagine\n",
       "3    5960               C([C@@H](C(=O)O)N)C(=O)O   -2.8  aspartic acid\n",
       "4    5862                    C([C@@H](C(=O)O)N)S   -2.5       cysteine\n",
       "5    5961              C(CC(=O)N)[C@@H](C(=O)O)N   -3.1      glutamine\n",
       "6   33032              C(CC(=O)O)[C@@H](C(=O)O)N   -3.7  glutamic acid\n",
       "7     750                             C(C(=O)O)N   -3.2        glycine\n",
       "8    6274            C1=C(NC=N1)C[C@@H](C(=O)O)N   -3.2      histidine\n",
       "9    6306              CC[C@H](C)[C@@H](C(=O)O)N   -1.7     isoleucine\n",
       "10   6106                  CC(C)C[C@@H](C(=O)O)N   -1.5        leucine\n",
       "11   5962                 C(CCN)C[C@@H](C(=O)O)N   -3.0         lysine\n",
       "12   6137                    CSCC[C@@H](C(=O)O)N   -1.9     methionine\n",
       "13   6140          C1=CC=C(C=C1)C[C@@H](C(=O)O)N   -1.5  phenylalanine\n",
       "14    614                        C1CC(NC1)C(=O)O   -2.5        proline\n",
       "15   5951                    C([C@@H](C(=O)O)N)O   -3.1         serine\n",
       "16   6288               C[C@H]([C@@H](C(=O)O)N)O   -2.9      threonine\n",
       "17   6305  C1=CC=C2C(=C1)C(=CN2)C[C@@H](C(=O)O)N   -1.1     tryptophan\n",
       "18   6057         C1=CC(=CC=C1C[C@@H](C(=O)O)N)O   -2.3       tyrosine\n",
       "19   6287                   CC(C)[C@@H](C(=O)O)N   -2.3         valine"
      ]
     },
     "execution_count": 4,
     "metadata": {},
     "output_type": "execute_result"
    }
   ],
   "source": [
    "df = pd.DataFrame()\n",
    "for i, k in enumerate(dic.keys()):\n",
    "    df[k] = ls[i]\n",
    "df['name'] = df_amino.name\n",
    "df"
   ]
  },
  {
   "cell_type": "code",
   "execution_count": 5,
   "metadata": {},
   "outputs": [],
   "source": [
    "mols = [Chem.MolFromSmiles(mol) for mol in df.IsomericSMILES]\n",
    "normalizer = MolStandardize.normalize.Normalizer()\n",
    "norm_mols = [normalizer.normalize(mol) for mol in mols]\n",
    "\n",
    "lfc = MolStandardize.fragment.LargestFragmentChooser()\n",
    "# 脱塩\n",
    "mol_desalts = [lfc.choose(mol) for mol in norm_mols]\n",
    "\n",
    "# 中性化\n",
    "uc = MolStandardize.charge.Uncharger()\n",
    "mol_neus = [uc.uncharge(mol) for mol in mol_desalts]"
   ]
  },
  {
   "cell_type": "code",
   "execution_count": 6,
   "metadata": {},
   "outputs": [],
   "source": [
    "mol_hs = [Chem.AddHs(mol) for mol in mol_neus]"
   ]
  },
  {
   "cell_type": "code",
   "execution_count": 7,
   "metadata": {},
   "outputs": [],
   "source": [
    "def MMFFOpt(mol_hs: list) -> tuple:\n",
    "    solid_fail_index_list = []\n",
    "    opt_fail_index_list = []\n",
    "    for i, m in enumerate(mol_hs):\n",
    "        num = AllChem.EmbedMolecule(m, AllChem.ETKDG())\n",
    "        if num != 0:\n",
    "            solid_fail_index_list.append(i)\n",
    "            print(\"3D Fail {}\".format(i))\n",
    "            continue\n",
    "        num = AllChem.MMFFOptimizeMolecule(m)\n",
    "        if num != 0:\n",
    "            opt_fail_index_list.append(i)\n",
    "            print(\"Opt Fail {}\".format(i))\n",
    "    return solid_fail_index_list, opt_fail_index_list"
   ]
  },
  {
   "cell_type": "code",
   "execution_count": 8,
   "metadata": {},
   "outputs": [],
   "source": [
    "not_solid_index, not_opt_index = MMFFOpt(mol_hs)"
   ]
  },
  {
   "cell_type": "code",
   "execution_count": 9,
   "metadata": {},
   "outputs": [
    {
     "data": {
      "text/plain": [
       "(0, 0)"
      ]
     },
     "execution_count": 9,
     "metadata": {},
     "output_type": "execute_result"
    }
   ],
   "source": [
    "len(not_solid_index), len(not_solid_index)"
   ]
  },
  {
   "cell_type": "code",
   "execution_count": 17,
   "metadata": {},
   "outputs": [],
   "source": [
    "w = Chem.SDWriter('../amino.sdf')\n",
    "for m in mol_hs: \n",
    "    w.write(m)\n",
    "w.close()"
   ]
  },
  {
   "cell_type": "code",
   "execution_count": 11,
   "metadata": {},
   "outputs": [],
   "source": [
    "idx_list = set()\n",
    "\n",
    "while len(idx_list) < len(df)//2:\n",
    "    idx_list.add(random.randint(0, len(df)))"
   ]
  },
  {
   "cell_type": "code",
   "execution_count": 12,
   "metadata": {},
   "outputs": [
    {
     "data": {
      "text/plain": [
       "{6, 7, 9, 11, 13, 14, 15, 16, 18, 20}"
      ]
     },
     "execution_count": 12,
     "metadata": {},
     "output_type": "execute_result"
    }
   ],
   "source": [
    "idx_list"
   ]
  },
  {
   "cell_type": "code",
   "execution_count": 13,
   "metadata": {},
   "outputs": [],
   "source": [
    "df['split'] = ['train' if i in idx_list else 'test' for i in range(len(df))]"
   ]
  },
  {
   "cell_type": "code",
   "execution_count": 22,
   "metadata": {},
   "outputs": [],
   "source": [
    "df['XLogP'] = df['XLogP'].apply(lambda x: 1 if x > -2.85 else 0)"
   ]
  },
  {
   "cell_type": "code",
   "execution_count": 28,
   "metadata": {},
   "outputs": [],
   "source": [
    "df.rename(columns={'XLogP': 'y'}, inplace=True)"
   ]
  },
  {
   "cell_type": "code",
   "execution_count": 29,
   "metadata": {},
   "outputs": [],
   "source": [
    "df.to_csv('../amino.csv', index=False, encoding='utf-8')"
   ]
  },
  {
   "cell_type": "code",
   "execution_count": null,
   "metadata": {},
   "outputs": [],
   "source": []
  }
 ],
 "metadata": {
  "kernelspec": {
   "display_name": "Python 3",
   "language": "python",
   "name": "python3"
  },
  "language_info": {
   "codemirror_mode": {
    "name": "ipython",
    "version": 3
   },
   "file_extension": ".py",
   "mimetype": "text/x-python",
   "name": "python",
   "nbconvert_exporter": "python",
   "pygments_lexer": "ipython3",
   "version": "3.7.3"
  }
 },
 "nbformat": 4,
 "nbformat_minor": 2
}
